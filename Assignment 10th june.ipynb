{
 "cells": [
  {
   "cell_type": "markdown",
   "metadata": {},
   "source": [
    "1. In Python, what is the difference between a built-in function and a user-defined function? Provide an\n",
    "example of each.\n",
    "\n",
    "A) Python built-in functions are pre-defined functions.Which can be used directly in a python programme without importing external libraries.\n",
    "examples : len(),str(),int(),float(),range(),max(),min()\n",
    "\n",
    "In Python, a user-defined function's declaration begins with the keyword def and followed by the function name.The function may take arguments(s) as input within the opening and closing parentheses.\n",
    "example : def add(a,b) :\n",
    "              return a + b\n",
    "          add(6,4)\n",
    "     "
   ]
  },
  {
   "cell_type": "markdown",
   "metadata": {},
   "source": [
    "2. How can you pass arguments to a function in Python? Explain the difference between positional\n",
    "arguments and keyword arguments\n",
    "\n",
    "A) Arguments are specified after the function name, inside the parentheses. we can add as many arguments as you want just by separate them with a comma.\n",
    "   A positional argument is a name that is not followed by an equal sign (=) and default value. A keyword argument is followed by an equal sign and an expression that gives its default value."
   ]
  },
  {
   "cell_type": "markdown",
   "metadata": {},
   "source": [
    "3. What is the purpose of the return statement in a function? Can a function have multiple return\n",
    "statements? Explain with an example\n",
    "\n",
    "A) A return statement ends the processing of the current function and returns control to the caller of the function.\n",
    "   A function can have more than one \"return\" statement, and only one will run for a particular call of the function.\n",
    "   The call to divmod() returns a tuple containing the quotient and remainder that result from dividing the two non-complex numbers provided as arguments. This is an example of a function with multiple return values."
   ]
  },
  {
   "cell_type": "markdown",
   "metadata": {},
   "source": [
    "4. What are lambda functions in Python? How are they different from regular functions? Provide an\n",
    "example where a lambda function can be useful.\n",
    "\n",
    "A) A lambda function is a small anonymous function. A lambda function can take any number of arguments ,but can only have one expression.\n",
    " Lambda functions are similar to user defined functions but without a name\n",
    " Lambda functions are veryusefull while creating a function that contains simple expressions i.e., single line of code\n",
    "\n",
    " Example : square  = lambda x : x ** 2\n",
    "           print(square(10))"
   ]
  },
  {
   "cell_type": "markdown",
   "metadata": {},
   "source": [
    "5. How does the concept of \"scope\" apply to functions in Python? Explain the difference between local\n",
    "scope and global scope.\n",
    "\n",
    "A) Variables that are defined inside a function body have a local scope, and those defined outside have a global scope.\n",
    " Python Global variables are those which are not defined inside any function and have a global scope whereas Python local variables are those which are defined inside a function and their scope is limited to that function only. "
   ]
  },
  {
   "cell_type": "markdown",
   "metadata": {},
   "source": [
    "6. How can you use the \"return\" statement in a Python function to return multiple values?\n",
    "\n",
    "A) In Python, we can return multiple values by simply separating them with commas in the return statement.\n",
    " For example, suppose you need to write a function that takes a sample of numeric data and returns a summary of statistical measures. To code that function, you can use the Python standard module statistics, which provides several functions for calculating mathematical statistics of numeric data.\n",
    "\n",
    " import statistics as st\n",
    "\n",
    "def describe(sample):\n",
    "    return st.mean(sample), st.median(sample), st.mode(sample)"
   ]
  },
  {
   "cell_type": "markdown",
   "metadata": {},
   "source": [
    "7. What is the difference between the \"pass by value\" and \"pass by reference\" concepts when it\n",
    "comes to function arguments in Python?\n",
    "\n",
    "A) Pass by reference means that you have to pass the function(reference) to a variable which refers that the variable already exists in memory. \n",
    " we pass a copy of actual variables in function as a parameter. Hence any modification on parameters inside the function will not reflect in the actual variable."
   ]
  },
  {
   "cell_type": "markdown",
   "metadata": {},
   "source": [
    "8. Create a function that can intake integer or decimal value and do following operations:\n",
    "a. Logarithmic function (log x)\n",
    "b. Exponential function (exp(x))\n",
    "c. Power function with base 2 (2x)\n",
    "d. Square root"
   ]
  },
  {
   "cell_type": "code",
   "execution_count": 16,
   "metadata": {},
   "outputs": [],
   "source": [
    "def function(a):\n",
    "    import math\n",
    "    print(\"Logarithmic of\",a ,\"is\" ,math.log(a))\n",
    "    print(\"Exponential function of\",a,\"is\" ,math.exp(a))\n",
    "    print(\"Power function \",math.pow(2,a))\n",
    "    print(\"Square root of\",a,\"is\",math.sqrt(a))"
   ]
  },
  {
   "cell_type": "code",
   "execution_count": 17,
   "metadata": {},
   "outputs": [
    {
     "name": "stdout",
     "output_type": "stream",
     "text": [
      "Logarithmic of 10 is 2.302585092994046\n",
      "Exponential function of 10 is 22026.465794806718\n",
      "Power function  1024.0\n",
      "Square root of 10 is 3.1622776601683795\n"
     ]
    }
   ],
   "source": [
    "function(10)"
   ]
  },
  {
   "cell_type": "markdown",
   "metadata": {},
   "source": [
    "9. Create a function that takes a full name as an argument and returns first name and last name."
   ]
  },
  {
   "cell_type": "code",
   "execution_count": 13,
   "metadata": {},
   "outputs": [
    {
     "name": "stdout",
     "output_type": "stream",
     "text": [
      "The first name is Narendra and last name is modi\n"
     ]
    }
   ],
   "source": [
    "def full_name(name) :\n",
    "    l = name.split()\n",
    "    print(\"The first name is\",l[0],\"and last name is\",l[1])\n",
    "full_name(\"Narendra modi\")\n",
    " "
   ]
  }
 ],
 "metadata": {
  "kernelspec": {
   "display_name": "Python 3.8.10 64-bit",
   "language": "python",
   "name": "python3"
  },
  "language_info": {
   "codemirror_mode": {
    "name": "ipython",
    "version": 3
   },
   "file_extension": ".py",
   "mimetype": "text/x-python",
   "name": "python",
   "nbconvert_exporter": "python",
   "pygments_lexer": "ipython3",
   "version": "3.8.10"
  },
  "orig_nbformat": 4,
  "vscode": {
   "interpreter": {
    "hash": "e7370f93d1d0cde622a1f8e1c04877d8463912d04d973331ad4851f04de6915a"
   }
  }
 },
 "nbformat": 4,
 "nbformat_minor": 2
}
