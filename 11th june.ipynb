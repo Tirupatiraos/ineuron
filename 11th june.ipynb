{
 "cells": [
  {
   "cell_type": "markdown",
   "metadata": {},
   "source": [
    "1. What is a lambda function in Python, and how does it differ from a regular function?\n",
    "\n",
    "A) A lambda function is an anonymous function i.e.,it is defined without a name.\n",
    "   A lambda function can take any number of arguments but can only have one expression.\n",
    "   Lambda function can be used when an anonymous function required for short period.\n",
    "   Lambda functions can only contain a single expression and cannot contain multiple lines of code.\n",
    "   It is very helpfull in solving simple problems not for complex ones."
   ]
  },
  {
   "cell_type": "markdown",
   "metadata": {},
   "source": [
    "2. Can a lambda function in Python have multiple arguments? If yes, how can you define and use\n",
    "them?\n",
    "\n",
    "A) Yes,lambda function in python have multiple arguments.Here i'm providing basic example by taking multiple arguments in Lambda function."
   ]
  },
  {
   "cell_type": "code",
   "execution_count": 2,
   "metadata": {},
   "outputs": [
    {
     "data": {
      "text/plain": [
       "15"
      ]
     },
     "execution_count": 2,
     "metadata": {},
     "output_type": "execute_result"
    }
   ],
   "source": [
    "# Lambda function for adding 3 numbers.\n",
    "\n",
    "Add = lambda x,y,z : x+y+z \n",
    "Add(4,5,6)"
   ]
  },
  {
   "cell_type": "markdown",
   "metadata": {},
   "source": [
    "3. How are lambda functions typically used in Python? Provide an example use case.\n",
    "\n",
    "A) Lambda functions are efficient whenever we want to create a function that will only contain simple expressions.\n",
    "   When we want to execute a block of code once or multiple times,this is the usecase of lambda function."
   ]
  },
  {
   "cell_type": "code",
   "execution_count": 3,
   "metadata": {},
   "outputs": [
    {
     "data": {
      "text/plain": [
       "625"
      ]
     },
     "execution_count": 3,
     "metadata": {},
     "output_type": "execute_result"
    }
   ],
   "source": [
    "# Finding square of given number by using Lambda function \n",
    "\n",
    "square = lambda x : x**2 \n",
    "square(25)"
   ]
  },
  {
   "cell_type": "markdown",
   "metadata": {},
   "source": [
    "4. What are the advantages and limitations of lambda functions compared to regular functions in\n",
    "Python?\n",
    "\n",
    "A) Lambda function allows you to write concise,expressive and flexible code that can handle complex tasks and also it doesn't have to stored in a\n",
    "   separate file.\n",
    "\n",
    "   One of the main limitation for lambda functions are limited to a single expression and also it is not suitable for complex calculations."
   ]
  },
  {
   "cell_type": "markdown",
   "metadata": {},
   "source": [
    "5. Are lambda functions in Python able to access variables defined outside of their own scope?\n",
    "   Explain with an example.\n",
    "A) Yes, lambda functions in python able to access variables defined outside of their scope."
   ]
  },
  {
   "cell_type": "code",
   "execution_count": 5,
   "metadata": {},
   "outputs": [
    {
     "data": {
      "text/plain": [
       "120"
      ]
     },
     "execution_count": 5,
     "metadata": {},
     "output_type": "execute_result"
    }
   ],
   "source": [
    "# Lambda function for multiplication of 3 numbers,in which one is defined outside of lambda and remaining 2 are defined inside the lambda.\n",
    "x = 5\n",
    "Mul = lambda y,z : x*y*z \n",
    "Mul(4,6)"
   ]
  },
  {
   "cell_type": "markdown",
   "metadata": {},
   "source": [
    "6. Write a lambda function to calculate the square of a given number."
   ]
  },
  {
   "cell_type": "code",
   "execution_count": 7,
   "metadata": {},
   "outputs": [
    {
     "data": {
      "text/plain": [
       "676"
      ]
     },
     "execution_count": 7,
     "metadata": {},
     "output_type": "execute_result"
    }
   ],
   "source": [
    "# lambda function to calculate the square of a given number.\n",
    "\n",
    "square = lambda x : x**2 \n",
    "square(26)"
   ]
  },
  {
   "cell_type": "markdown",
   "metadata": {},
   "source": [
    "7. Create a lambda function to find the maximum value in a list of integers."
   ]
  },
  {
   "cell_type": "code",
   "execution_count": 22,
   "metadata": {},
   "outputs": [
    {
     "name": "stdout",
     "output_type": "stream",
     "text": [
      "5454\n"
     ]
    }
   ],
   "source": [
    "# lambda function to find the maximum value in a list of integers.\n",
    "lis= [23,32,542,141,231,4643,1331,443,5454]\n",
    "maximum = max(lis,key = lambda x :int(x))\n",
    "print(maximum)\n",
    "\n"
   ]
  },
  {
   "cell_type": "code",
   "execution_count": 25,
   "metadata": {},
   "outputs": [
    {
     "name": "stdout",
     "output_type": "stream",
     "text": [
      "4643\n"
     ]
    }
   ],
   "source": [
    "# lambda function to find the maximum value in a list of integers.\n",
    "l = [23,32,542,141,231,4643,1331,443]\n",
    "from functools import reduce\n",
    "maxi = reduce(lambda a , b :a if a >= b else b ,l )\n",
    "print(maxi)"
   ]
  },
  {
   "cell_type": "markdown",
   "metadata": {},
   "source": [
    "8. Implement a lambda function to filter out all the even numbers from a list of integers."
   ]
  },
  {
   "cell_type": "code",
   "execution_count": 33,
   "metadata": {},
   "outputs": [
    {
     "name": "stdout",
     "output_type": "stream",
     "text": [
      "[2, 6, 26, 938]\n"
     ]
    }
   ],
   "source": [
    "# lambda function to filter out all the even numbers from a list of integers.\n",
    "l2 = [2,3,53,6,26,2521,938]\n",
    "even_numbers = filter(lambda x : x%2 ==0 ,l2)\n",
    "print(list(even_numbers))"
   ]
  },
  {
   "cell_type": "markdown",
   "metadata": {},
   "source": [
    "9. Write a lambda function to sort a list of strings in ascending order based on the length of each\n",
    "string."
   ]
  },
  {
   "cell_type": "code",
   "execution_count": 14,
   "metadata": {},
   "outputs": [
    {
     "name": "stdout",
     "output_type": "stream",
     "text": [
      "['apple', 'banana', 'orange', 'pine apple', 'dragon fruit', 'custard apple']\n"
     ]
    }
   ],
   "source": [
    "# lambda function to sort a list of strings in ascending order based on the length of each stirng.\n",
    "\n",
    "mylist = [\"custard apple\",\"apple\",\"banana\",\"orange\",\"pine apple\",\"dragon fruit\"]\n",
    "\n",
    "sorted_list = sorted(mylist,key = lambda x :len(x))\n",
    "print (sorted_list)"
   ]
  },
  {
   "cell_type": "markdown",
   "metadata": {},
   "source": [
    "10. Create a lambda function that takes two lists as input and returns a new list containing the\n",
    "common elements between the two lists.\n"
   ]
  },
  {
   "cell_type": "code",
   "execution_count": 30,
   "metadata": {},
   "outputs": [
    {
     "name": "stdout",
     "output_type": "stream",
     "text": [
      "[1, 3]\n"
     ]
    }
   ],
   "source": [
    "#lambda function that takes two lists as input and returns a new list containing the common elements between the two lists.\n",
    "\n",
    "list1 = [1,2,3,33,]\n",
    "list2 = [1,3,44]\n",
    "new_list = filter(lambda x : x in list1,list2)\n",
    "print (list(new_list))"
   ]
  },
  {
   "cell_type": "markdown",
   "metadata": {},
   "source": [
    "11. Write a recursive function to calculate the factorial of a given positive integer."
   ]
  },
  {
   "cell_type": "code",
   "execution_count": 52,
   "metadata": {},
   "outputs": [
    {
     "name": "stdout",
     "output_type": "stream",
     "text": [
      "The factorial of 5 is 120\n"
     ]
    }
   ],
   "source": [
    "# recursive function to calculate the factorial of a given positive integer.\n",
    "\n",
    "def recursive_factorial(n) :\n",
    "    if n == 0 or n == 1 :\n",
    "        return 1\n",
    "    else :\n",
    "        return n*recursive_factorial(n-1)\n",
    "    \n",
    "num = 5\n",
    "print(\"The factorial of\",num,\"is\",recursive_factorial(num))"
   ]
  },
  {
   "cell_type": "markdown",
   "metadata": {},
   "source": [
    "12. Implement a recursive function to compute the nth Fibonacci number"
   ]
  },
  {
   "cell_type": "code",
   "execution_count": 62,
   "metadata": {},
   "outputs": [
    {
     "name": "stdout",
     "output_type": "stream",
     "text": [
      "377\n"
     ]
    }
   ],
   "source": [
    "def Fibonacci(n):\n",
    "    if n<= 0:\n",
    "        print(\"Incorrect input\")\n",
    "    # First Fibonacci number is 0\n",
    "    elif n == 1:\n",
    "        return 0\n",
    "    # Second Fibonacci number is 1\n",
    "    elif n == 2:\n",
    "        return 1\n",
    "    else:\n",
    "        return Fibonacci(n-1)+Fibonacci(n-2)\n",
    "  \n",
    "print(Fibonacci(15))"
   ]
  },
  {
   "cell_type": "markdown",
   "metadata": {},
   "source": [
    "13. Create a recursive function to find the sum of all the elements in a given list."
   ]
  },
  {
   "cell_type": "code",
   "execution_count": 3,
   "metadata": {},
   "outputs": [
    {
     "name": "stdout",
     "output_type": "stream",
     "text": [
      "43\n"
     ]
    }
   ],
   "source": [
    "# recursive function to find the sum of all the elements in a given list.\n",
    "\n",
    "def sum_elements(list1) :\n",
    "    if len(list1) == 1 :\n",
    "        return list1[0]\n",
    "    else :\n",
    "        return list1[0] + sum_elements(list1[1:])\n",
    "list1 = [1,2,3,4,32,1]\n",
    "    \n",
    "print(sum_elements(list1))"
   ]
  },
  {
   "cell_type": "markdown",
   "metadata": {},
   "source": [
    "14. Write a recursive function to determine whether a given string is a palindrome"
   ]
  },
  {
   "cell_type": "code",
   "execution_count": 12,
   "metadata": {},
   "outputs": [
    {
     "name": "stdout",
     "output_type": "stream",
     "text": [
      "Yes\n"
     ]
    }
   ],
   "source": [
    "# recursive function to determine whether a given string is a palindrome\n",
    "\n",
    "def ispalindrome(s) :\n",
    "    s = s.lower()\n",
    "    l = len(s)\n",
    "\n",
    "    if l<2 :\n",
    "        return True \n",
    "    elif s[0] == s[l-1] :\n",
    "        return ispalindrome(s[1 : l-1])\n",
    "    else :\n",
    "        return False \n",
    "    \n",
    "s = \"Malayalam\"\n",
    "s1 = ispalindrome(s)\n",
    "if s1 :\n",
    "    print(\"Yes\")\n",
    "\n",
    "else :\n",
    "    print(\"No\")\n",
    "\n"
   ]
  },
  {
   "cell_type": "markdown",
   "metadata": {},
   "source": [
    "15. Implement a recursive function to find the greatest common divisor (GCD) of two positive integers.\n"
   ]
  },
  {
   "cell_type": "code",
   "execution_count": 18,
   "metadata": {},
   "outputs": [
    {
     "name": "stdout",
     "output_type": "stream",
     "text": [
      "6\n"
     ]
    }
   ],
   "source": [
    "# recursive function to find the greatest common divisor (GCD) of two positive integers.\n",
    "\n",
    "def find_GCD(num1,num2) :\n",
    "    if num1 == 0 or num2 == 0 :\n",
    "        return num1 + num2 \n",
    "    elif num1 == num2 :\n",
    "        return num1 \n",
    "    elif num1>num2 :\n",
    "        return find_GCD(num1-num2,num2)\n",
    "    else :\n",
    "        return find_GCD(num1,num2-num1)\n",
    "    \n",
    "print(find_GCD(30,24))"
   ]
  }
 ],
 "metadata": {
  "kernelspec": {
   "display_name": "base",
   "language": "python",
   "name": "python3"
  },
  "language_info": {
   "codemirror_mode": {
    "name": "ipython",
    "version": 3
   },
   "file_extension": ".py",
   "mimetype": "text/x-python",
   "name": "python",
   "nbconvert_exporter": "python",
   "pygments_lexer": "ipython3",
   "version": "3.11.5"
  }
 },
 "nbformat": 4,
 "nbformat_minor": 2
}
