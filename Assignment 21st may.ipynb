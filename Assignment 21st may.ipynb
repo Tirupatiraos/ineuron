{
 "cells": [
  {
   "cell_type": "markdown",
   "metadata": {},
   "source": [
    "Q.1. Create two int type variables, apply addition, subtraction, division and multiplications\n",
    "and store the results in variables. Then print the data in the following format by calling the\n",
    "variables:\n",
    "First variable is __ & second variable is __.\n",
    "Addition: __ + __ = __\n",
    "Subtraction: __ - __ = __\n",
    "Multiplication: __ * __ = __\n",
    "Division: __ / __ = __"
   ]
  },
  {
   "cell_type": "code",
   "execution_count": null,
   "metadata": {},
   "outputs": [],
   "source": [
    "a = 10\n",
    "b = 5\n",
    "print(\"First variable is :\",a,\"&\", \"second variable is :\",b)\n",
    "c = a + b\n",
    "d = a - b\n",
    "e = a * b\n",
    "f = a / b\n",
    "print(\"Addition :\", a ,\"+\", b ,\"=\", c)\n",
    "print(\"Subtraction :\", a ,\"-\", b ,\"=\", d)\n",
    "print(\"Multiplication :\", a ,\"*\", b ,\"=\", e)\n",
    "print(\"Division :\", a ,\"/\", b ,\"=\", f)"
   ]
  },
  {
   "cell_type": "markdown",
   "metadata": {},
   "source": [
    "Q.2. What is the difference between the following operators:\n",
    "(i) ‘/’ & ‘//’\n",
    "(ii) ‘**’ & ‘^’\n",
    "\n",
    "A) i) / and // both are division operators\n",
    "     '/' is float division operator and the output of this operator is always a quotient with float data type.\n",
    "     '//' is integer or floor division operator and the output of this operator will be the quotient rounded off to the closest whole number.\n",
    "  ii)'^' operator Compares each bit of the first operand with the corresponding bit of the second operand. If one of the bits is 1      (but not both), the corresponding result bit is set to 1. Otherwise, the result bit is set to 0.\n",
    "      \n",
    "     '**' operator : it is exponentiation Operator and it returns first raised to power second."
   ]
  },
  {
   "cell_type": "markdown",
   "metadata": {},
   "source": [
    "Q.3. List the logical operators.\n",
    "\n",
    "A) Logical And  :True if both the operands are true\n",
    "   Logical Or   :True if either of the operands is true\n",
    "   Logical Not  :True if operand is false"
   ]
  },
  {
   "cell_type": "markdown",
   "metadata": {},
   "source": [
    "Q.4. Explain right shift operator and left shift operator with examples.\n",
    "\n",
    "A) Right Shift Operator (>>): Shifts the bits of the number to the right by the number of bits specified. Each shift to the right corresponds to dividing the number by 2.\n",
    " a = 10        \n",
    " b = a >> 2  \n",
    " print(b)\n",
    "\n",
    "  Left Shift Operator (<<): Shifts the bits of the number to the left by the number of bits specified. Each shift to the left corresponds to multiplying the number by 2.\n",
    " a = 10        \n",
    " b = a << 2  \n",
    " print(b)"
   ]
  },
  {
   "cell_type": "markdown",
   "metadata": {},
   "source": [
    "Q.5. Create a list containing int type data of length 15. Then write a code to check if 10 is\n",
    "present in the list or not."
   ]
  },
  {
   "cell_type": "code",
   "execution_count": 10,
   "metadata": {},
   "outputs": [
    {
     "data": {
      "text/plain": [
       "True"
      ]
     },
     "execution_count": 10,
     "metadata": {},
     "output_type": "execute_result"
    }
   ],
   "source": [
    "l = [1,2,34,55,64,6,7,75,10,12,3,5,32,22,33]\n",
    "len(l)\n",
    "10 in l"
   ]
  },
  {
   "cell_type": "code",
   "execution_count": 15,
   "metadata": {},
   "outputs": [
    {
     "data": {
      "text/plain": [
       "True"
      ]
     },
     "execution_count": 15,
     "metadata": {},
     "output_type": "execute_result"
    }
   ],
   "source": [
    "l = list(range(1,16))\n",
    "len(l)\n",
    "10 in l"
   ]
  }
 ],
 "metadata": {
  "kernelspec": {
   "display_name": "Python 3.8.10 64-bit",
   "language": "python",
   "name": "python3"
  },
  "language_info": {
   "codemirror_mode": {
    "name": "ipython",
    "version": 3
   },
   "file_extension": ".py",
   "mimetype": "text/x-python",
   "name": "python",
   "nbconvert_exporter": "python",
   "pygments_lexer": "ipython3",
   "version": "3.8.10"
  },
  "orig_nbformat": 4,
  "vscode": {
   "interpreter": {
    "hash": "e7370f93d1d0cde622a1f8e1c04877d8463912d04d973331ad4851f04de6915a"
   }
  }
 },
 "nbformat": 4,
 "nbformat_minor": 2
}
